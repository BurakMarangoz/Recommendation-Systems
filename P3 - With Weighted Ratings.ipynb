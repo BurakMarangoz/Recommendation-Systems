{
 "cells": [
  {
   "cell_type": "code",
   "execution_count": 1,
   "id": "dcea74bf",
   "metadata": {},
   "outputs": [],
   "source": [
    "import numpy as np\n",
    "import pandas as pd\n",
    "from sklearn.metrics.pairwise import cosine_similarity\n",
    "from sklearn.metrics import mean_squared_error\n",
    "import warnings\n",
    "warnings.filterwarnings('ignore')\n"
   ]
  },
  {
   "cell_type": "code",
   "execution_count": 2,
   "id": "ecf92f02",
   "metadata": {
    "scrolled": true
   },
   "outputs": [
    {
     "data": {
      "text/html": [
       "<div>\n",
       "<style scoped>\n",
       "    .dataframe tbody tr th:only-of-type {\n",
       "        vertical-align: middle;\n",
       "    }\n",
       "\n",
       "    .dataframe tbody tr th {\n",
       "        vertical-align: top;\n",
       "    }\n",
       "\n",
       "    .dataframe thead th {\n",
       "        text-align: right;\n",
       "    }\n",
       "</style>\n",
       "<table border=\"1\" class=\"dataframe\">\n",
       "  <thead>\n",
       "    <tr style=\"text-align: right;\">\n",
       "      <th></th>\n",
       "      <th>userID</th>\n",
       "      <th>movieID</th>\n",
       "      <th>rating</th>\n",
       "    </tr>\n",
       "  </thead>\n",
       "  <tbody>\n",
       "    <tr>\n",
       "      <th>0</th>\n",
       "      <td>4490</td>\n",
       "      <td>2109</td>\n",
       "      <td>4</td>\n",
       "    </tr>\n",
       "    <tr>\n",
       "      <th>1</th>\n",
       "      <td>5839</td>\n",
       "      <td>3471</td>\n",
       "      <td>4</td>\n",
       "    </tr>\n",
       "    <tr>\n",
       "      <th>2</th>\n",
       "      <td>5382</td>\n",
       "      <td>150</td>\n",
       "      <td>3</td>\n",
       "    </tr>\n",
       "    <tr>\n",
       "      <th>3</th>\n",
       "      <td>1262</td>\n",
       "      <td>1237</td>\n",
       "      <td>5</td>\n",
       "    </tr>\n",
       "    <tr>\n",
       "      <th>4</th>\n",
       "      <td>6005</td>\n",
       "      <td>2273</td>\n",
       "      <td>4</td>\n",
       "    </tr>\n",
       "  </tbody>\n",
       "</table>\n",
       "</div>"
      ],
      "text/plain": [
       "   userID  movieID  rating\n",
       "0    4490     2109       4\n",
       "1    5839     3471       4\n",
       "2    5382      150       3\n",
       "3    1262     1237       5\n",
       "4    6005     2273       4"
      ]
     },
     "execution_count": 2,
     "metadata": {},
     "output_type": "execute_result"
    }
   ],
   "source": [
    "ratings = pd.read_csv('train.csv')\n",
    "ratings.head()"
   ]
  },
  {
   "cell_type": "code",
   "execution_count": 3,
   "id": "2e5449b7",
   "metadata": {},
   "outputs": [
    {
     "data": {
      "text/plain": [
       "(990209, 3)"
      ]
     },
     "execution_count": 3,
     "metadata": {},
     "output_type": "execute_result"
    }
   ],
   "source": [
    "ratings.shape"
   ]
  },
  {
   "cell_type": "code",
   "execution_count": 4,
   "id": "79a48e6e",
   "metadata": {},
   "outputs": [],
   "source": [
    "global_mean = ratings.rating.mean()\n",
    "\n",
    "user_means = ratings.groupby('userID').rating.mean()\n",
    "movie_means = ratings.groupby('movieID').rating.mean()\n",
    "\n",
    "ratings = ratings.merge(pd.DataFrame(user_means), on='userID', how='left')\n",
    "ratings = ratings.merge(pd.DataFrame(movie_means), on='movieID', how='left')\n",
    "ratings.columns = ['userID', 'movieID', 'rating', 'user_mean', 'movie_mean']\n",
    "\n",
    "ratings['baseline'] = global_mean + (ratings.user_mean - global_mean) + (ratings.movie_mean - global_mean)\n",
    "ratings['deviation'] = ratings.rating - ratings.baseline\n",
    "\n",
    "pivot1= ratings.pivot(index=\"movieID\", columns= \"userID\", values=\"rating\")\n",
    "scaled_df = pivot1 - pivot1.mean(axis=1).values.reshape(-1, 1)\n",
    "scaled_df.fillna(0, inplace=True)\n",
    "similarities = cosine_similarity(scaled_df,scaled_df)\n",
    "similarities_df = pd.DataFrame(similarities,columns=pivot1.index,index=pivot1.index)"
   ]
  },
  {
   "cell_type": "code",
   "execution_count": 171,
   "id": "beea7b0f",
   "metadata": {},
   "outputs": [],
   "source": [
    "def predict_rating(user_id, movie_id):\n",
    "    top10_movies = similarities_df.loc[movie_id,ratings.loc[ratings.userID == user_id].movieID.to_list()].sort_values(ascending=False)[1:11].index.to_list()\n",
    "    similarities = similarities_df.loc[movie_id,ratings.loc[ratings.userID == user_id].movieID.to_list()].sort_values(ascending=False)[1:11].to_list()\n",
    "    deviations = []\n",
    "    for i in top10_movies:\n",
    "        deviations.append(ratings.loc[(ratings.userID == user_id) & (ratings.movieID == i)].deviation.values[0]) \n",
    "    \n",
    "    weighted_deviations = 0\n",
    "    for i in range(len(top10_movies)):\n",
    "        weighted_deviations += similarities[i] * deviations[i]\n",
    "    \n",
    "    baseline_rate = global_mean + (ratings[(ratings.userID == user_id)].user_mean.values[0] - global_mean) + (ratings[(ratings.movieID == movie_id)].movie_mean.values[0] - global_mean)\n",
    "    \n",
    "    predicted_rating = baseline_rate + (weighted_deviations / np.sum(similarities))\n",
    "\n",
    "    return predicted_rating"
   ]
  },
  {
   "cell_type": "code",
   "execution_count": 113,
   "id": "19674899",
   "metadata": {},
   "outputs": [
    {
     "data": {
      "text/html": [
       "<div>\n",
       "<style scoped>\n",
       "    .dataframe tbody tr th:only-of-type {\n",
       "        vertical-align: middle;\n",
       "    }\n",
       "\n",
       "    .dataframe tbody tr th {\n",
       "        vertical-align: top;\n",
       "    }\n",
       "\n",
       "    .dataframe thead th {\n",
       "        text-align: right;\n",
       "    }\n",
       "</style>\n",
       "<table border=\"1\" class=\"dataframe\">\n",
       "  <thead>\n",
       "    <tr style=\"text-align: right;\">\n",
       "      <th></th>\n",
       "      <th>IDs</th>\n",
       "    </tr>\n",
       "  </thead>\n",
       "  <tbody>\n",
       "    <tr>\n",
       "      <th>0</th>\n",
       "      <td>629_2683</td>\n",
       "    </tr>\n",
       "    <tr>\n",
       "      <th>1</th>\n",
       "      <td>601_904</td>\n",
       "    </tr>\n",
       "    <tr>\n",
       "      <th>2</th>\n",
       "      <td>5673_3717</td>\n",
       "    </tr>\n",
       "    <tr>\n",
       "      <th>3</th>\n",
       "      <td>5616_1721</td>\n",
       "    </tr>\n",
       "    <tr>\n",
       "      <th>4</th>\n",
       "      <td>1099_3697</td>\n",
       "    </tr>\n",
       "  </tbody>\n",
       "</table>\n",
       "</div>"
      ],
      "text/plain": [
       "         IDs\n",
       "0   629_2683\n",
       "1    601_904\n",
       "2  5673_3717\n",
       "3  5616_1721\n",
       "4  1099_3697"
      ]
     },
     "execution_count": 113,
     "metadata": {},
     "output_type": "execute_result"
    }
   ],
   "source": [
    "test_no_labels = pd.read_csv(\"test_without_labels.csv\")\n",
    "test_no_labels.head()"
   ]
  },
  {
   "cell_type": "code",
   "execution_count": 114,
   "id": "4e42dbca",
   "metadata": {
    "scrolled": true
   },
   "outputs": [
    {
     "data": {
      "text/html": [
       "<div>\n",
       "<style scoped>\n",
       "    .dataframe tbody tr th:only-of-type {\n",
       "        vertical-align: middle;\n",
       "    }\n",
       "\n",
       "    .dataframe tbody tr th {\n",
       "        vertical-align: top;\n",
       "    }\n",
       "\n",
       "    .dataframe thead th {\n",
       "        text-align: right;\n",
       "    }\n",
       "</style>\n",
       "<table border=\"1\" class=\"dataframe\">\n",
       "  <thead>\n",
       "    <tr style=\"text-align: right;\">\n",
       "      <th></th>\n",
       "      <th>IDs</th>\n",
       "      <th>userID</th>\n",
       "      <th>movieID</th>\n",
       "    </tr>\n",
       "  </thead>\n",
       "  <tbody>\n",
       "    <tr>\n",
       "      <th>0</th>\n",
       "      <td>629_2683</td>\n",
       "      <td>629</td>\n",
       "      <td>2683</td>\n",
       "    </tr>\n",
       "    <tr>\n",
       "      <th>1</th>\n",
       "      <td>601_904</td>\n",
       "      <td>601</td>\n",
       "      <td>904</td>\n",
       "    </tr>\n",
       "    <tr>\n",
       "      <th>2</th>\n",
       "      <td>5673_3717</td>\n",
       "      <td>5673</td>\n",
       "      <td>3717</td>\n",
       "    </tr>\n",
       "    <tr>\n",
       "      <th>3</th>\n",
       "      <td>5616_1721</td>\n",
       "      <td>5616</td>\n",
       "      <td>1721</td>\n",
       "    </tr>\n",
       "    <tr>\n",
       "      <th>4</th>\n",
       "      <td>1099_3697</td>\n",
       "      <td>1099</td>\n",
       "      <td>3697</td>\n",
       "    </tr>\n",
       "  </tbody>\n",
       "</table>\n",
       "</div>"
      ],
      "text/plain": [
       "         IDs  userID  movieID\n",
       "0   629_2683     629     2683\n",
       "1    601_904     601      904\n",
       "2  5673_3717    5673     3717\n",
       "3  5616_1721    5616     1721\n",
       "4  1099_3697    1099     3697"
      ]
     },
     "execution_count": 114,
     "metadata": {},
     "output_type": "execute_result"
    }
   ],
   "source": [
    "test_no_labels[\"userID\"] = test_no_labels.IDs.str.split('_').str[0].astype(int)\n",
    "test_no_labels[\"movieID\"] = test_no_labels.IDs.str.split('_').str[1].astype(int)\n",
    "test_no_labels.head()"
   ]
  },
  {
   "cell_type": "code",
   "execution_count": 115,
   "id": "835167e4",
   "metadata": {
    "scrolled": true
   },
   "outputs": [],
   "source": [
    "test_weighted = test_no_labels.drop(\"IDs\",axis=1)"
   ]
  },
  {
   "cell_type": "code",
   "execution_count": 132,
   "id": "82a5d0d0",
   "metadata": {},
   "outputs": [
    {
     "name": "stderr",
     "output_type": "stream",
     "text": [
      "C:\\Users\\Burak\\AppData\\Local\\Temp\\ipykernel_18572\\1689546358.py:15: RuntimeWarning: invalid value encountered in double_scalars\n",
      "  predicted_rating = baseline_rate + (weighted_deviations / np.sum(similarities))\n",
      "C:\\Users\\Burak\\AppData\\Local\\Temp\\ipykernel_18572\\1689546358.py:15: RuntimeWarning: invalid value encountered in double_scalars\n",
      "  predicted_rating = baseline_rate + (weighted_deviations / np.sum(similarities))\n",
      "C:\\Users\\Burak\\AppData\\Local\\Temp\\ipykernel_18572\\1689546358.py:15: RuntimeWarning: invalid value encountered in double_scalars\n",
      "  predicted_rating = baseline_rate + (weighted_deviations / np.sum(similarities))\n"
     ]
    }
   ],
   "source": [
    "preds = []\n",
    "for user,movie in test_weighted.itertuples(index=False):\n",
    "    preds.append(predict_rating(user,movie))"
   ]
  },
  {
   "cell_type": "code",
   "execution_count": 133,
   "id": "75b84eff",
   "metadata": {},
   "outputs": [],
   "source": [
    "for i in range(len(preds)): \n",
    "    if preds[i] > 5:\n",
    "        preds[i] = 5\n",
    "    elif preds[i] < 1:\n",
    "        preds[i] = 1"
   ]
  },
  {
   "cell_type": "code",
   "execution_count": 134,
   "id": "42fc9855",
   "metadata": {},
   "outputs": [
    {
     "data": {
      "text/plain": [
       "9999"
      ]
     },
     "execution_count": 134,
     "metadata": {},
     "output_type": "execute_result"
    }
   ],
   "source": [
    "len(preds)"
   ]
  },
  {
   "cell_type": "code",
   "execution_count": 137,
   "id": "90b6719e",
   "metadata": {},
   "outputs": [],
   "source": [
    "for i in range(len(preds)): \n",
    "    if not preds[i] <= 5 or not preds[i] >= 1:\n",
    "        preds[i] = global_mean"
   ]
  },
  {
   "cell_type": "code",
   "execution_count": 138,
   "id": "ecd9e756",
   "metadata": {},
   "outputs": [
    {
     "data": {
      "text/plain": [
       "3.609687940993474"
      ]
     },
     "execution_count": 138,
     "metadata": {},
     "output_type": "execute_result"
    }
   ],
   "source": [
    "sum(preds)/len(preds)"
   ]
  },
  {
   "cell_type": "code",
   "execution_count": 139,
   "id": "5b5593f0",
   "metadata": {
    "scrolled": true
   },
   "outputs": [],
   "source": [
    "test_no_labels[\"rating\"] = preds\n",
    "test_no_labels.drop(columns=[\"userID\",\"movieID\"],axis=1,inplace=True)\n",
    "test_no_labels.to_csv(\"result_weighted_v3_3004.csv\", index=False)"
   ]
  },
  {
   "cell_type": "code",
   "execution_count": 7,
   "id": "8eae36fa",
   "metadata": {},
   "outputs": [],
   "source": [
    "from sklearn.neighbors import NearestNeighbors"
   ]
  },
  {
   "cell_type": "code",
   "execution_count": 71,
   "id": "1380c5a9",
   "metadata": {},
   "outputs": [],
   "source": [
    "def predict_rating(user_id, movie_id):\n",
    "    k = 25\n",
    "    filtered = scaled_df[(scaled_df.loc[:,user_id] != 0) & (scaled_df.index != movie_id)]\n",
    "    if len(filtered) < k:\n",
    "        k = len(filtered)\n",
    "    nn = NearestNeighbors(n_neighbors=k, metric=\"cosine\")\n",
    "    nn.fit(filtered)\n",
    "    distances,indices = nn.kneighbors(scaled_df.loc[[movie_id]])\n",
    "    top25_movies = filtered.iloc[indices[0].tolist()].index\n",
    "    distances = distances[0].tolist()\n",
    "    similarities = []\n",
    "    for i in distances:\n",
    "        similarities.append(1 - i)\n",
    "    \n",
    "    deviations = []\n",
    "    for i in top25_movies:\n",
    "        deviations.append(ratings.loc[(ratings.userID == user_id) & (ratings.movieID == i)].rating.values[0] - (ratings[(ratings.userID == user_id)].user_mean.values[0] + ratings[(ratings.movieID == i)].movie_mean.values[0]  - global_mean))\n",
    "        \n",
    "    weighted_deviations = 0\n",
    "    for i in range(len(top25_movies)):\n",
    "        weighted_deviations += similarities[i] * deviations[i]\n",
    "    \n",
    "    baseline_rate = global_mean + (ratings[(ratings.userID == user_id)].user_mean.values[0] - global_mean) + (ratings[(ratings.movieID == movie_id)].movie_mean.values[0] - global_mean)\n",
    "    \n",
    "    predicted_rating = baseline_rate + (weighted_deviations / np.sum(similarities))\n",
    "\n",
    "    return predicted_rating"
   ]
  },
  {
   "cell_type": "code",
   "execution_count": 72,
   "id": "7a96e7b8",
   "metadata": {},
   "outputs": [],
   "source": [
    "test = ratings[:10000]\n",
    "test = test[[\"userID\",\"movieID\"]]\n",
    "\n",
    "preds = []\n",
    "for user,movie in test.itertuples(index=False):\n",
    "    preds.append(predict_rating(user,movie))"
   ]
  },
  {
   "cell_type": "code",
   "execution_count": 73,
   "id": "a6850f9e",
   "metadata": {},
   "outputs": [],
   "source": [
    "for i in range(len(preds)): \n",
    "    if preds[i] > 5:\n",
    "        preds[i] = 5\n",
    "    elif preds[i] < 1:\n",
    "        preds[i] = 1\n",
    "        \n",
    "for i in range(len(preds)): \n",
    "    if not preds[i] <= 5 or not preds[i] >= 1:\n",
    "        preds[i] = global_mean"
   ]
  },
  {
   "cell_type": "code",
   "execution_count": 74,
   "id": "34e4b957",
   "metadata": {},
   "outputs": [
    {
     "data": {
      "text/plain": [
       "0.7738419878000423"
      ]
     },
     "execution_count": 74,
     "metadata": {},
     "output_type": "execute_result"
    }
   ],
   "source": [
    "mean_squared_error(preds,ratings[:10000].rating.to_list(),squared=False)"
   ]
  },
  {
   "cell_type": "code",
   "execution_count": 75,
   "id": "bb23cd8b",
   "metadata": {},
   "outputs": [],
   "source": [
    "test_no_labels = pd.read_csv(\"test_without_labels.csv\")\n",
    "test_no_labels[\"userID\"] = test_no_labels.IDs.str.split('_').str[0].astype(int)\n",
    "test_no_labels[\"movieID\"] = test_no_labels.IDs.str.split('_').str[1].astype(int)\n",
    "test_weighted = test_no_labels.drop(\"IDs\",axis=1)\n",
    "preds = []\n",
    "for user,movie in test_weighted.itertuples(index=False):\n",
    "    preds.append(predict_rating(user,movie))"
   ]
  },
  {
   "cell_type": "code",
   "execution_count": 76,
   "id": "b9706993",
   "metadata": {},
   "outputs": [
    {
     "data": {
      "text/plain": [
       "9999"
      ]
     },
     "execution_count": 76,
     "metadata": {},
     "output_type": "execute_result"
    }
   ],
   "source": [
    "len(preds)"
   ]
  },
  {
   "cell_type": "code",
   "execution_count": 78,
   "id": "c7d0672e",
   "metadata": {},
   "outputs": [],
   "source": [
    "for i in range(len(preds)): \n",
    "    if preds[i] > 5:\n",
    "        preds[i] = 5\n",
    "    elif preds[i] < 1:\n",
    "        preds[i] = 1\n",
    "        \n",
    "for i in range(len(preds)): \n",
    "    if not preds[i] <= 5 or not preds[i] >= 1:\n",
    "        preds[i] = global_mean"
   ]
  },
  {
   "cell_type": "code",
   "execution_count": 79,
   "id": "b6e82b5e",
   "metadata": {},
   "outputs": [
    {
     "data": {
      "text/plain": [
       "3.606783083880396"
      ]
     },
     "execution_count": 79,
     "metadata": {},
     "output_type": "execute_result"
    }
   ],
   "source": [
    "sum(preds)/len(preds)"
   ]
  },
  {
   "cell_type": "code",
   "execution_count": 80,
   "id": "952899a3",
   "metadata": {},
   "outputs": [],
   "source": [
    "test_no_labels[\"rating\"] = preds\n",
    "test_no_labels.drop(columns=[\"userID\",\"movieID\"],axis=1,inplace=True)\n",
    "test_no_labels.to_csv(\"result_weighted_LAST3.csv\", index=False)"
   ]
  },
  {
   "cell_type": "markdown",
   "id": "e8bc53ea",
   "metadata": {},
   "source": [
    "# BEST RMSE SCORE WITH \"result_weighted_LAST3.csv\""
   ]
  },
  {
   "cell_type": "code",
   "execution_count": 82,
   "id": "31404741",
   "metadata": {},
   "outputs": [],
   "source": [
    "def predict_rating(user_id, movie_id):\n",
    "    k = 5\n",
    "    filtered = scaled_df[(scaled_df.loc[:,user_id] != 0) & (scaled_df.index != movie_id)]\n",
    "    if len(filtered) < k:\n",
    "        k = len(filtered)\n",
    "    nn = NearestNeighbors(n_neighbors=k, metric=\"cosine\")\n",
    "    nn.fit(filtered)\n",
    "    distances,indices = nn.kneighbors(scaled_df.loc[[movie_id]])\n",
    "    top25_movies = filtered.iloc[indices[0].tolist()].index\n",
    "    distances = distances[0].tolist()\n",
    "    similarities = []\n",
    "    for i in distances:\n",
    "        similarities.append(1 - i)\n",
    "    \n",
    "    deviations = []\n",
    "    for i in top25_movies:\n",
    "        deviations.append(ratings.loc[(ratings.userID == user_id) & (ratings.movieID == i)].rating.values[0] - (ratings[(ratings.userID == user_id)].user_mean.values[0] + ratings[(ratings.movieID == i)].movie_mean.values[0]  - global_mean))\n",
    "        \n",
    "    weighted_deviations = 0\n",
    "    for i in range(len(top25_movies)):\n",
    "        weighted_deviations += similarities[i] * deviations[i]\n",
    "    \n",
    "    baseline_rate = global_mean + (ratings[(ratings.userID == user_id)].user_mean.values[0] - global_mean) + (ratings[(ratings.movieID == movie_id)].movie_mean.values[0] - global_mean)\n",
    "    \n",
    "    predicted_rating = baseline_rate + (weighted_deviations / np.sum(similarities))\n",
    "\n",
    "    return predicted_rating"
   ]
  },
  {
   "cell_type": "code",
   "execution_count": 83,
   "id": "a1e7ff5a",
   "metadata": {},
   "outputs": [],
   "source": [
    "test = ratings[:2000]\n",
    "test = test[[\"userID\",\"movieID\"]]\n",
    "\n",
    "preds = []\n",
    "for user,movie in test.itertuples(index=False):\n",
    "    preds.append(predict_rating(user,movie))"
   ]
  },
  {
   "cell_type": "code",
   "execution_count": 84,
   "id": "d90df09c",
   "metadata": {},
   "outputs": [],
   "source": [
    "for i in range(len(preds)): \n",
    "    if preds[i] > 5:\n",
    "        preds[i] = 5\n",
    "    elif preds[i] < 1:\n",
    "        preds[i] = 1\n",
    "        \n",
    "for i in range(len(preds)): \n",
    "    if not preds[i] <= 5 or not preds[i] >= 1:\n",
    "        preds[i] = global_mean"
   ]
  },
  {
   "cell_type": "code",
   "execution_count": 85,
   "id": "a1089eca",
   "metadata": {},
   "outputs": [
    {
     "data": {
      "text/plain": [
       "0.8065818715790588"
      ]
     },
     "execution_count": 85,
     "metadata": {},
     "output_type": "execute_result"
    }
   ],
   "source": [
    "mean_squared_error(preds,ratings[:2000].rating.to_list(),squared=False)"
   ]
  },
  {
   "cell_type": "code",
   "execution_count": 86,
   "id": "d87c1a03",
   "metadata": {},
   "outputs": [],
   "source": [
    "def predict_rating(user_id, movie_id):\n",
    "    k = 10\n",
    "    filtered = scaled_df[(scaled_df.loc[:,user_id] != 0) & (scaled_df.index != movie_id)]\n",
    "    if len(filtered) < k:\n",
    "        k = len(filtered)\n",
    "    nn = NearestNeighbors(n_neighbors=k, metric=\"cosine\")\n",
    "    nn.fit(filtered)\n",
    "    distances,indices = nn.kneighbors(scaled_df.loc[[movie_id]])\n",
    "    top25_movies = filtered.iloc[indices[0].tolist()].index\n",
    "    distances = distances[0].tolist()\n",
    "    similarities = []\n",
    "    for i in distances:\n",
    "        similarities.append(1 - i)\n",
    "    \n",
    "    deviations = []\n",
    "    for i in top25_movies:\n",
    "        deviations.append(ratings.loc[(ratings.userID == user_id) & (ratings.movieID == i)].rating.values[0] - (ratings[(ratings.userID == user_id)].user_mean.values[0] + ratings[(ratings.movieID == i)].movie_mean.values[0]  - global_mean))\n",
    "        \n",
    "    weighted_deviations = 0\n",
    "    for i in range(len(top25_movies)):\n",
    "        weighted_deviations += similarities[i] * deviations[i]\n",
    "    \n",
    "    baseline_rate = global_mean + (ratings[(ratings.userID == user_id)].user_mean.values[0] - global_mean) + (ratings[(ratings.movieID == movie_id)].movie_mean.values[0] - global_mean)\n",
    "    \n",
    "    predicted_rating = baseline_rate + (weighted_deviations / np.sum(similarities))\n",
    "\n",
    "    return predicted_rating"
   ]
  },
  {
   "cell_type": "code",
   "execution_count": 87,
   "id": "e60330d2",
   "metadata": {},
   "outputs": [],
   "source": [
    "test = ratings[:2000]\n",
    "test = test[[\"userID\",\"movieID\"]]\n",
    "\n",
    "preds = []\n",
    "for user,movie in test.itertuples(index=False):\n",
    "    preds.append(predict_rating(user,movie))"
   ]
  },
  {
   "cell_type": "code",
   "execution_count": 88,
   "id": "89018c29",
   "metadata": {},
   "outputs": [],
   "source": [
    "for i in range(len(preds)): \n",
    "    if preds[i] > 5:\n",
    "        preds[i] = 5\n",
    "    elif preds[i] < 1:\n",
    "        preds[i] = 1\n",
    "        \n",
    "for i in range(len(preds)): \n",
    "    if not preds[i] <= 5 or not preds[i] >= 1:\n",
    "        preds[i] = global_mean"
   ]
  },
  {
   "cell_type": "code",
   "execution_count": 89,
   "id": "b19ba5a7",
   "metadata": {},
   "outputs": [
    {
     "data": {
      "text/plain": [
       "0.7801258569224209"
      ]
     },
     "execution_count": 89,
     "metadata": {},
     "output_type": "execute_result"
    }
   ],
   "source": [
    "mean_squared_error(preds,ratings[:2000].rating.to_list(),squared=False)"
   ]
  },
  {
   "cell_type": "code",
   "execution_count": 90,
   "id": "6a41ce4f",
   "metadata": {},
   "outputs": [],
   "source": [
    "def predict_rating(user_id, movie_id):\n",
    "    k = 15\n",
    "    filtered = scaled_df[(scaled_df.loc[:,user_id] != 0) & (scaled_df.index != movie_id)]\n",
    "    if len(filtered) < k:\n",
    "        k = len(filtered)\n",
    "    nn = NearestNeighbors(n_neighbors=k, metric=\"cosine\")\n",
    "    nn.fit(filtered)\n",
    "    distances,indices = nn.kneighbors(scaled_df.loc[[movie_id]])\n",
    "    top25_movies = filtered.iloc[indices[0].tolist()].index\n",
    "    distances = distances[0].tolist()\n",
    "    similarities = []\n",
    "    for i in distances:\n",
    "        similarities.append(1 - i)\n",
    "    \n",
    "    deviations = []\n",
    "    for i in top25_movies:\n",
    "        deviations.append(ratings.loc[(ratings.userID == user_id) & (ratings.movieID == i)].rating.values[0] - (ratings[(ratings.userID == user_id)].user_mean.values[0] + ratings[(ratings.movieID == i)].movie_mean.values[0]  - global_mean))\n",
    "        \n",
    "    weighted_deviations = 0\n",
    "    for i in range(len(top25_movies)):\n",
    "        weighted_deviations += similarities[i] * deviations[i]\n",
    "    \n",
    "    baseline_rate = global_mean + (ratings[(ratings.userID == user_id)].user_mean.values[0] - global_mean) + (ratings[(ratings.movieID == movie_id)].movie_mean.values[0] - global_mean)\n",
    "    \n",
    "    predicted_rating = baseline_rate + (weighted_deviations / np.sum(similarities))\n",
    "\n",
    "    return predicted_rating"
   ]
  },
  {
   "cell_type": "code",
   "execution_count": 91,
   "id": "2b423f61",
   "metadata": {},
   "outputs": [],
   "source": [
    "test = ratings[:2000]\n",
    "test = test[[\"userID\",\"movieID\"]]\n",
    "\n",
    "preds = []\n",
    "for user,movie in test.itertuples(index=False):\n",
    "    preds.append(predict_rating(user,movie))"
   ]
  },
  {
   "cell_type": "code",
   "execution_count": 92,
   "id": "d9c26920",
   "metadata": {},
   "outputs": [],
   "source": [
    "for i in range(len(preds)): \n",
    "    if preds[i] > 5:\n",
    "        preds[i] = 5\n",
    "    elif preds[i] < 1:\n",
    "        preds[i] = 1\n",
    "        \n",
    "for i in range(len(preds)): \n",
    "    if not preds[i] <= 5 or not preds[i] >= 1:\n",
    "        preds[i] = global_mean"
   ]
  },
  {
   "cell_type": "code",
   "execution_count": 93,
   "id": "54144319",
   "metadata": {},
   "outputs": [
    {
     "data": {
      "text/plain": [
       "0.7776675721012835"
      ]
     },
     "execution_count": 93,
     "metadata": {},
     "output_type": "execute_result"
    }
   ],
   "source": [
    "mean_squared_error(preds,ratings[:2000].rating.to_list(),squared=False)"
   ]
  },
  {
   "cell_type": "code",
   "execution_count": 94,
   "id": "49f3273a",
   "metadata": {},
   "outputs": [],
   "source": [
    "def predict_rating(user_id, movie_id):\n",
    "    k = 20\n",
    "    filtered = scaled_df[(scaled_df.loc[:,user_id] != 0) & (scaled_df.index != movie_id)]\n",
    "    if len(filtered) < k:\n",
    "        k = len(filtered)\n",
    "    nn = NearestNeighbors(n_neighbors=k, metric=\"cosine\")\n",
    "    nn.fit(filtered)\n",
    "    distances,indices = nn.kneighbors(scaled_df.loc[[movie_id]])\n",
    "    top25_movies = filtered.iloc[indices[0].tolist()].index\n",
    "    distances = distances[0].tolist()\n",
    "    similarities = []\n",
    "    for i in distances:\n",
    "        similarities.append(1 - i)\n",
    "    \n",
    "    deviations = []\n",
    "    for i in top25_movies:\n",
    "        deviations.append(ratings.loc[(ratings.userID == user_id) & (ratings.movieID == i)].rating.values[0] - (ratings[(ratings.userID == user_id)].user_mean.values[0] + ratings[(ratings.movieID == i)].movie_mean.values[0]  - global_mean))\n",
    "        \n",
    "    weighted_deviations = 0\n",
    "    for i in range(len(top25_movies)):\n",
    "        weighted_deviations += similarities[i] * deviations[i]\n",
    "    \n",
    "    baseline_rate = global_mean + (ratings[(ratings.userID == user_id)].user_mean.values[0] - global_mean) + (ratings[(ratings.movieID == movie_id)].movie_mean.values[0] - global_mean)\n",
    "    \n",
    "    predicted_rating = baseline_rate + (weighted_deviations / np.sum(similarities))\n",
    "\n",
    "    return predicted_rating"
   ]
  },
  {
   "cell_type": "code",
   "execution_count": 95,
   "id": "592cb529",
   "metadata": {},
   "outputs": [],
   "source": [
    "test = ratings[:2000]\n",
    "test = test[[\"userID\",\"movieID\"]]\n",
    "\n",
    "preds = []\n",
    "for user,movie in test.itertuples(index=False):\n",
    "    preds.append(predict_rating(user,movie))"
   ]
  },
  {
   "cell_type": "code",
   "execution_count": 96,
   "id": "728718a6",
   "metadata": {},
   "outputs": [],
   "source": [
    "for i in range(len(preds)): \n",
    "    if preds[i] > 5:\n",
    "        preds[i] = 5\n",
    "    elif preds[i] < 1:\n",
    "        preds[i] = 1\n",
    "        \n",
    "for i in range(len(preds)): \n",
    "    if not preds[i] <= 5 or not preds[i] >= 1:\n",
    "        preds[i] = global_mean"
   ]
  },
  {
   "cell_type": "code",
   "execution_count": 97,
   "id": "1227da64",
   "metadata": {},
   "outputs": [
    {
     "data": {
      "text/plain": [
       "0.7751197686587386"
      ]
     },
     "execution_count": 97,
     "metadata": {},
     "output_type": "execute_result"
    }
   ],
   "source": [
    "mean_squared_error(preds,ratings[:2000].rating.to_list(),squared=False)"
   ]
  },
  {
   "cell_type": "code",
   "execution_count": 98,
   "id": "5cd7773e",
   "metadata": {},
   "outputs": [],
   "source": [
    "def predict_rating(user_id, movie_id):\n",
    "    k = 25\n",
    "    filtered = scaled_df[(scaled_df.loc[:,user_id] != 0) & (scaled_df.index != movie_id)]\n",
    "    if len(filtered) < k:\n",
    "        k = len(filtered)\n",
    "    nn = NearestNeighbors(n_neighbors=k, metric=\"cosine\")\n",
    "    nn.fit(filtered)\n",
    "    distances,indices = nn.kneighbors(scaled_df.loc[[movie_id]])\n",
    "    top25_movies = filtered.iloc[indices[0].tolist()].index\n",
    "    distances = distances[0].tolist()\n",
    "    similarities = []\n",
    "    for i in distances:\n",
    "        similarities.append(1 - i)\n",
    "    \n",
    "    deviations = []\n",
    "    for i in top25_movies:\n",
    "        deviations.append(ratings.loc[(ratings.userID == user_id) & (ratings.movieID == i)].rating.values[0] - (ratings[(ratings.userID == user_id)].user_mean.values[0] + ratings[(ratings.movieID == i)].movie_mean.values[0]  - global_mean))\n",
    "        \n",
    "    weighted_deviations = 0\n",
    "    for i in range(len(top25_movies)):\n",
    "        weighted_deviations += similarities[i] * deviations[i]\n",
    "    \n",
    "    baseline_rate = global_mean + (ratings[(ratings.userID == user_id)].user_mean.values[0] - global_mean) + (ratings[(ratings.movieID == movie_id)].movie_mean.values[0] - global_mean)\n",
    "    \n",
    "    predicted_rating = baseline_rate + (weighted_deviations / np.sum(similarities))\n",
    "\n",
    "    return predicted_rating"
   ]
  },
  {
   "cell_type": "code",
   "execution_count": 99,
   "id": "ff6177dc",
   "metadata": {},
   "outputs": [],
   "source": [
    "test = ratings[:2000]\n",
    "test = test[[\"userID\",\"movieID\"]]\n",
    "\n",
    "preds = []\n",
    "for user,movie in test.itertuples(index=False):\n",
    "    preds.append(predict_rating(user,movie))"
   ]
  },
  {
   "cell_type": "code",
   "execution_count": 100,
   "id": "d11eff6c",
   "metadata": {},
   "outputs": [],
   "source": [
    "for i in range(len(preds)): \n",
    "    if preds[i] > 5:\n",
    "        preds[i] = 5\n",
    "    elif preds[i] < 1:\n",
    "        preds[i] = 1\n",
    "        \n",
    "for i in range(len(preds)): \n",
    "    if not preds[i] <= 5 or not preds[i] >= 1:\n",
    "        preds[i] = global_mean"
   ]
  },
  {
   "cell_type": "code",
   "execution_count": 101,
   "id": "2a11872f",
   "metadata": {},
   "outputs": [
    {
     "data": {
      "text/plain": [
       "0.7750794894795131"
      ]
     },
     "execution_count": 101,
     "metadata": {},
     "output_type": "execute_result"
    }
   ],
   "source": [
    "mean_squared_error(preds,ratings[:2000].rating.to_list(),squared=False)"
   ]
  },
  {
   "cell_type": "code",
   "execution_count": 102,
   "id": "718be020",
   "metadata": {},
   "outputs": [],
   "source": [
    "def predict_rating(user_id, movie_id):\n",
    "    k = 30\n",
    "    filtered = scaled_df[(scaled_df.loc[:,user_id] != 0) & (scaled_df.index != movie_id)]\n",
    "    if len(filtered) < k:\n",
    "        k = len(filtered)\n",
    "    nn = NearestNeighbors(n_neighbors=k, metric=\"cosine\")\n",
    "    nn.fit(filtered)\n",
    "    distances,indices = nn.kneighbors(scaled_df.loc[[movie_id]])\n",
    "    top25_movies = filtered.iloc[indices[0].tolist()].index\n",
    "    distances = distances[0].tolist()\n",
    "    similarities = []\n",
    "    for i in distances:\n",
    "        similarities.append(1 - i)\n",
    "    \n",
    "    deviations = []\n",
    "    for i in top25_movies:\n",
    "        deviations.append(ratings.loc[(ratings.userID == user_id) & (ratings.movieID == i)].rating.values[0] - (ratings[(ratings.userID == user_id)].user_mean.values[0] + ratings[(ratings.movieID == i)].movie_mean.values[0]  - global_mean))\n",
    "        \n",
    "    weighted_deviations = 0\n",
    "    for i in range(len(top25_movies)):\n",
    "        weighted_deviations += similarities[i] * deviations[i]\n",
    "    \n",
    "    baseline_rate = global_mean + (ratings[(ratings.userID == user_id)].user_mean.values[0] - global_mean) + (ratings[(ratings.movieID == movie_id)].movie_mean.values[0] - global_mean)\n",
    "    \n",
    "    predicted_rating = baseline_rate + (weighted_deviations / np.sum(similarities))\n",
    "\n",
    "    return predicted_rating"
   ]
  },
  {
   "cell_type": "code",
   "execution_count": 103,
   "id": "2a712b82",
   "metadata": {},
   "outputs": [],
   "source": [
    "test = ratings[:2000]\n",
    "test = test[[\"userID\",\"movieID\"]]\n",
    "\n",
    "preds = []\n",
    "for user,movie in test.itertuples(index=False):\n",
    "    preds.append(predict_rating(user,movie))"
   ]
  },
  {
   "cell_type": "code",
   "execution_count": 104,
   "id": "bd7cceaf",
   "metadata": {},
   "outputs": [],
   "source": [
    "for i in range(len(preds)): \n",
    "    if preds[i] > 5:\n",
    "        preds[i] = 5\n",
    "    elif preds[i] < 1:\n",
    "        preds[i] = 1\n",
    "        \n",
    "for i in range(len(preds)): \n",
    "    if not preds[i] <= 5 or not preds[i] >= 1:\n",
    "        preds[i] = global_mean"
   ]
  },
  {
   "cell_type": "code",
   "execution_count": 105,
   "id": "e9f513c2",
   "metadata": {},
   "outputs": [
    {
     "data": {
      "text/plain": [
       "0.7735457189761383"
      ]
     },
     "execution_count": 105,
     "metadata": {},
     "output_type": "execute_result"
    }
   ],
   "source": [
    "mean_squared_error(preds,ratings[:2000].rating.to_list(),squared=False)"
   ]
  },
  {
   "cell_type": "code",
   "execution_count": 106,
   "id": "1a099d5a",
   "metadata": {},
   "outputs": [],
   "source": [
    "def predict_rating(user_id, movie_id):\n",
    "    k = 35\n",
    "    filtered = scaled_df[(scaled_df.loc[:,user_id] != 0) & (scaled_df.index != movie_id)]\n",
    "    if len(filtered) < k:\n",
    "        k = len(filtered)\n",
    "    nn = NearestNeighbors(n_neighbors=k, metric=\"cosine\")\n",
    "    nn.fit(filtered)\n",
    "    distances,indices = nn.kneighbors(scaled_df.loc[[movie_id]])\n",
    "    top25_movies = filtered.iloc[indices[0].tolist()].index\n",
    "    distances = distances[0].tolist()\n",
    "    similarities = []\n",
    "    for i in distances:\n",
    "        similarities.append(1 - i)\n",
    "    \n",
    "    deviations = []\n",
    "    for i in top25_movies:\n",
    "        deviations.append(ratings.loc[(ratings.userID == user_id) & (ratings.movieID == i)].rating.values[0] - (ratings[(ratings.userID == user_id)].user_mean.values[0] + ratings[(ratings.movieID == i)].movie_mean.values[0]  - global_mean))\n",
    "        \n",
    "    weighted_deviations = 0\n",
    "    for i in range(len(top25_movies)):\n",
    "        weighted_deviations += similarities[i] * deviations[i]\n",
    "    \n",
    "    baseline_rate = global_mean + (ratings[(ratings.userID == user_id)].user_mean.values[0] - global_mean) + (ratings[(ratings.movieID == movie_id)].movie_mean.values[0] - global_mean)\n",
    "    \n",
    "    predicted_rating = baseline_rate + (weighted_deviations / np.sum(similarities))\n",
    "\n",
    "    return predicted_rating"
   ]
  },
  {
   "cell_type": "code",
   "execution_count": 107,
   "id": "0bf82609",
   "metadata": {},
   "outputs": [],
   "source": [
    "test = ratings[:2000]\n",
    "test = test[[\"userID\",\"movieID\"]]\n",
    "\n",
    "preds = []\n",
    "for user,movie in test.itertuples(index=False):\n",
    "    preds.append(predict_rating(user,movie))"
   ]
  },
  {
   "cell_type": "code",
   "execution_count": 108,
   "id": "f7d543d4",
   "metadata": {},
   "outputs": [],
   "source": [
    "for i in range(len(preds)): \n",
    "    if preds[i] > 5:\n",
    "        preds[i] = 5\n",
    "    elif preds[i] < 1:\n",
    "        preds[i] = 1\n",
    "        \n",
    "for i in range(len(preds)): \n",
    "    if not preds[i] <= 5 or not preds[i] >= 1:\n",
    "        preds[i] = global_mean"
   ]
  },
  {
   "cell_type": "code",
   "execution_count": 109,
   "id": "58f000f7",
   "metadata": {},
   "outputs": [
    {
     "data": {
      "text/plain": [
       "0.774095289535659"
      ]
     },
     "execution_count": 109,
     "metadata": {},
     "output_type": "execute_result"
    }
   ],
   "source": [
    "mean_squared_error(preds,ratings[:2000].rating.to_list(),squared=False)"
   ]
  },
  {
   "cell_type": "code",
   "execution_count": 110,
   "id": "fde1a37b",
   "metadata": {},
   "outputs": [],
   "source": [
    "k_ = [5, 10, 15, 20, 25, 30, 35]\n",
    "scores = [0.8065818715790588, 0.7801258569224209, 0.7776675721012835,0.7751197686587386,0.7750794894795131,0.7735457189761383, 0.774095289535659]"
   ]
  },
  {
   "cell_type": "code",
   "execution_count": 111,
   "id": "5bae2ead",
   "metadata": {},
   "outputs": [
    {
     "data": {
      "image/png": "[encoded data removed]",
      "text/plain": [
       "<Figure size 432x288 with 1 Axes>"
      ]
     },
     "metadata": {
      "needs_background": "light"
     },
     "output_type": "display_data"
    }
   ],
   "source": [
    "import matplotlib.pyplot as plt\n",
    "\n",
    "plt.plot(k_, scores)\n",
    "plt.xlabel(\"k\")\n",
    "plt.ylabel(\"RMSE\")\n",
    "plt.show();"
   ]
  },
  {
   "cell_type": "code",
   "execution_count": 112,
   "id": "8b871d6f",
   "metadata": {},
   "outputs": [],
   "source": [
    "def predict_rating(user_id, movie_id):\n",
    "    k = 30\n",
    "    filtered = scaled_df[(scaled_df.loc[:,user_id] != 0) & (scaled_df.index != movie_id)]\n",
    "    if len(filtered) < k:\n",
    "        k = len(filtered)\n",
    "    nn = NearestNeighbors(n_neighbors=k, metric=\"cosine\")\n",
    "    nn.fit(filtered)\n",
    "    distances,indices = nn.kneighbors(scaled_df.loc[[movie_id]])\n",
    "    top25_movies = filtered.iloc[indices[0].tolist()].index\n",
    "    distances = distances[0].tolist()\n",
    "    similarities = []\n",
    "    for i in distances:\n",
    "        similarities.append(1 - i)\n",
    "    \n",
    "    deviations = []\n",
    "    for i in top25_movies:\n",
    "        deviations.append(ratings.loc[(ratings.userID == user_id) & (ratings.movieID == i)].rating.values[0] - (ratings[(ratings.userID == user_id)].user_mean.values[0] + ratings[(ratings.movieID == i)].movie_mean.values[0]  - global_mean))\n",
    "        \n",
    "    weighted_deviations = 0\n",
    "    for i in range(len(top25_movies)):\n",
    "        weighted_deviations += similarities[i] * deviations[i]\n",
    "    \n",
    "    baseline_rate = global_mean + (ratings[(ratings.userID == user_id)].user_mean.values[0] - global_mean) + (ratings[(ratings.movieID == movie_id)].movie_mean.values[0] - global_mean)\n",
    "    \n",
    "    predicted_rating = baseline_rate + (weighted_deviations / np.sum(similarities))\n",
    "    if predicted_rating > 5:\n",
    "        predicted_rating = 5\n",
    "    elif predicted_rating < 1:\n",
    "        predicted_rating = 1\n",
    "    if not predicted_rating <= 5 or not predicted_rating >= 1:\n",
    "        predicted_rating = ratings[(ratings.userID == user_id)].user_mean.values[0]\n",
    "\n",
    "    return predicted_rating"
   ]
  },
  {
   "cell_type": "code",
   "execution_count": 114,
   "id": "c84d9906",
   "metadata": {},
   "outputs": [],
   "source": [
    "preds = []\n",
    "for user,movie in test_weighted.itertuples(index=False):\n",
    "    preds.append(predict_rating(user,movie))"
   ]
  },
  {
   "cell_type": "code",
   "execution_count": 115,
   "id": "cb091369",
   "metadata": {},
   "outputs": [
    {
     "data": {
      "text/plain": [
       "3.6063004112365715"
      ]
     },
     "execution_count": 115,
     "metadata": {},
     "output_type": "execute_result"
    }
   ],
   "source": [
    "sum(preds)/len(preds)"
   ]
  },
  {
   "cell_type": "code",
   "execution_count": 117,
   "id": "6aaeadaa",
   "metadata": {},
   "outputs": [],
   "source": [
    "test_no_labels[\"rating\"] = preds\n",
    "test_no_labels.to_csv(\"result_weighted_LAST2.csv\", index=False)"
   ]
  },
  {
   "cell_type": "code",
   "execution_count": 122,
   "id": "621a7a67",
   "metadata": {},
   "outputs": [],
   "source": [
    "def predict_rating(user_id, movie_id):\n",
    "    k = 30\n",
    "    filtered = scaled_df[(scaled_df.loc[:,user_id] != 0) & (scaled_df.index != movie_id)]\n",
    "    if len(filtered) < k:\n",
    "        k = len(filtered)\n",
    "    nn = NearestNeighbors(n_neighbors=k, metric=\"cosine\")\n",
    "    nn.fit(filtered)\n",
    "    distances,indices = nn.kneighbors(scaled_df.loc[[movie_id]])\n",
    "    top25_movies = filtered.iloc[indices[0].tolist()].index\n",
    "    distances = distances[0].tolist()\n",
    "    similarities = []\n",
    "    for i in distances:\n",
    "        similarities.append(1 - i)\n",
    "    \n",
    "    deviations = []\n",
    "    for i in top25_movies:\n",
    "        deviations.append(ratings.loc[(ratings.userID == user_id) & (ratings.movieID == i)].rating.values[0] - (ratings[(ratings.userID == user_id)].user_mean.values[0] + ratings[(ratings.movieID == i)].movie_mean.values[0]  - global_mean))\n",
    "        \n",
    "    weighted_deviations = 0\n",
    "    for i in range(len(top25_movies)):\n",
    "        weighted_deviations += similarities[i] * deviations[i]\n",
    "    \n",
    "    baseline_rate = global_mean + (ratings[(ratings.userID == user_id)].user_mean.values[0] - global_mean) + (ratings[(ratings.movieID == movie_id)].movie_mean.values[0] - global_mean)\n",
    "    \n",
    "    if np.sum(similarities) != 0:\n",
    "        predicted_rating = baseline_rate + (weighted_deviations / np.sum(similarities))\n",
    "    else:\n",
    "        predicted_rating = baseline_rate\n",
    "        \n",
    "    if predicted_rating > 5:\n",
    "        predicted_rating = 5\n",
    "    elif predicted_rating < 1:\n",
    "        predicted_rating = 1\n",
    "\n",
    "    return predicted_rating"
   ]
  },
  {
   "cell_type": "code",
   "execution_count": 123,
   "id": "6eaae16d",
   "metadata": {},
   "outputs": [],
   "source": [
    "preds = []\n",
    "for user,movie in test_weighted.itertuples(index=False):\n",
    "    preds.append(predict_rating(user,movie))"
   ]
  },
  {
   "cell_type": "code",
   "execution_count": 124,
   "id": "7c5893dd",
   "metadata": {},
   "outputs": [
    {
     "data": {
      "text/plain": [
       "3.6062888793670926"
      ]
     },
     "execution_count": 124,
     "metadata": {},
     "output_type": "execute_result"
    }
   ],
   "source": [
    "sum(preds)/len(preds)"
   ]
  },
  {
   "cell_type": "code",
   "execution_count": 125,
   "id": "2ab18449",
   "metadata": {},
   "outputs": [],
   "source": [
    "test_no_labels[\"rating\"] = preds\n",
    "test_no_labels.to_csv(\"result_weighted_LAST.csv\", index=False)"
   ]
  },
  {
   "cell_type": "code",
   "execution_count": null,
   "id": "b0c4bbc9",
   "metadata": {},
   "outputs": [],
   "source": []
  }
 ],
 "metadata": {
  "kernelspec": {
   "display_name": "Python 3 (ipykernel)",
   "language": "python",
   "name": "python3"
  },
  "language_info": {
   "codemirror_mode": {
    "name": "ipython",
    "version": 3
   },
   "file_extension": ".py",
   "mimetype": "text/x-python",
   "name": "python",
   "nbconvert_exporter": "python",
   "pygments_lexer": "ipython3",
   "version": "3.9.12"
  }
 },
 "nbformat": 4,
 "nbformat_minor": 5
}
