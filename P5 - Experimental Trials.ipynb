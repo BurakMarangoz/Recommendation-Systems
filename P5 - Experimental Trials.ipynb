{
 "cells": [
  {
   "cell_type": "code",
   "execution_count": 1,
   "id": "ac99f7a3",
   "metadata": {},
   "outputs": [],
   "source": [
    "import numpy as np\n",
    "import pandas as pd\n",
    "from sklearn.metrics import mean_squared_error\n",
    "from sklearn.metrics.pairwise import cosine_similarity\n",
    "import warnings\n",
    "warnings.filterwarnings('ignore')"
   ]
  },
  {
   "cell_type": "code",
   "execution_count": 2,
   "id": "2d0a9bdb",
   "metadata": {},
   "outputs": [
    {
     "data": {
      "text/html": [
       "<div>\n",
       "<style scoped>\n",
       "    .dataframe tbody tr th:only-of-type {\n",
       "        vertical-align: middle;\n",
       "    }\n",
       "\n",
       "    .dataframe tbody tr th {\n",
       "        vertical-align: top;\n",
       "    }\n",
       "\n",
       "    .dataframe thead th {\n",
       "        text-align: right;\n",
       "    }\n",
       "</style>\n",
       "<table border=\"1\" class=\"dataframe\">\n",
       "  <thead>\n",
       "    <tr style=\"text-align: right;\">\n",
       "      <th></th>\n",
       "      <th>userID</th>\n",
       "      <th>movieID</th>\n",
       "      <th>rating</th>\n",
       "    </tr>\n",
       "  </thead>\n",
       "  <tbody>\n",
       "    <tr>\n",
       "      <th>0</th>\n",
       "      <td>4490</td>\n",
       "      <td>2109</td>\n",
       "      <td>4</td>\n",
       "    </tr>\n",
       "    <tr>\n",
       "      <th>1</th>\n",
       "      <td>5839</td>\n",
       "      <td>3471</td>\n",
       "      <td>4</td>\n",
       "    </tr>\n",
       "    <tr>\n",
       "      <th>2</th>\n",
       "      <td>5382</td>\n",
       "      <td>150</td>\n",
       "      <td>3</td>\n",
       "    </tr>\n",
       "    <tr>\n",
       "      <th>3</th>\n",
       "      <td>1262</td>\n",
       "      <td>1237</td>\n",
       "      <td>5</td>\n",
       "    </tr>\n",
       "    <tr>\n",
       "      <th>4</th>\n",
       "      <td>6005</td>\n",
       "      <td>2273</td>\n",
       "      <td>4</td>\n",
       "    </tr>\n",
       "  </tbody>\n",
       "</table>\n",
       "</div>"
      ],
      "text/plain": [
       "   userID  movieID  rating\n",
       "0    4490     2109       4\n",
       "1    5839     3471       4\n",
       "2    5382      150       3\n",
       "3    1262     1237       5\n",
       "4    6005     2273       4"
      ]
     },
     "execution_count": 2,
     "metadata": {},
     "output_type": "execute_result"
    }
   ],
   "source": [
    "ratings = pd.read_csv('train.csv')\n",
    "ratings.head()"
   ]
  },
  {
   "cell_type": "code",
   "execution_count": 3,
   "id": "cac6cd0f",
   "metadata": {
    "scrolled": false
   },
   "outputs": [],
   "source": [
    "global_mean = ratings.rating.mean()\n",
    "\n",
    "user_means = ratings.groupby('userID').rating.mean()\n",
    "movie_means = ratings.groupby('movieID').rating.mean()\n",
    "\n",
    "ratings = ratings.merge(pd.DataFrame(user_means), on='userID', how='left')\n",
    "ratings = ratings.merge(pd.DataFrame(movie_means), on='movieID', how='left')\n",
    "ratings.columns = ['userID', 'movieID', 'rating', 'user_mean', 'movie_mean']\n",
    "\n",
    "movie_pivot = ratings.pivot(index=\"movieID\", columns= \"userID\", values=\"rating\")\n",
    "movie_scaled_df = movie_pivot - movie_pivot.mean(axis=1).values.reshape(-1, 1)\n",
    "movie_scaled_df.fillna(0, inplace=True)\n",
    "movie_similiarities = cosine_similarity(movie_scaled_df,movie_scaled_df)\n",
    "movie_similarities_df = pd.DataFrame(movie_similiarities,columns=movie_pivot.index,index=movie_pivot.index)\n",
    "\n",
    "user_pivot = ratings.pivot(index=\"userID\", columns= \"movieID\", values=\"rating\")\n",
    "user_scaled_df = user_pivot - user_pivot.mean(axis=1).values.reshape(-1, 1)\n",
    "user_scaled_df.fillna(0, inplace=True)\n",
    "user_similiarities = cosine_similarity(user_scaled_df,user_scaled_df)\n",
    "user_similarities_df = pd.DataFrame(user_similiarities,columns=user_pivot.index,index=user_pivot.index)"
   ]
  },
  {
   "cell_type": "code",
   "execution_count": 4,
   "id": "072a457e",
   "metadata": {},
   "outputs": [],
   "source": [
    "def predict_rating(user_id, movie_id):\n",
    "    top10_movies = movie_similarities_df.loc[movie_id,ratings.loc[ratings.userID == user_id].movieID.to_list()].sort_values(ascending=False)[1:11].index.to_list()\n",
    "    top10_movies_mean = ratings[ratings.movieID.isin(top10_movies)].drop_duplicates(subset=\"movieID\",keep=\"first\").movie_mean.mean()\n",
    "    \n",
    "    if len(ratings[(ratings.movieID.isin(top10_movies)) & (ratings.userID == user_id)]) > 0:\n",
    "        users_top10_ratings_mean = ratings[(ratings.movieID.isin(top10_movies)) & (ratings.userID == user_id)].rating.mean()\n",
    "    else:\n",
    "        users_top10_ratings_mean = ratings[ratings.userID == user_id].rating.mean()\n",
    "    \n",
    "    top10_users = user_similarities_df.loc[user_id].sort_values(ascending=False)[1:11].index.to_list()\n",
    "    top10_users_mean = ratings[(ratings.userID.isin(top10_users)) & (ratings.movieID.isin(top10_movies))].rating.mean()\n",
    "      \n",
    "    predicted_rating = ((top10_movies_mean + users_top10_ratings_mean + top10_users_mean) / 3) + movie_scaled_df[user_id].mean()\n",
    "\n",
    "    return predicted_rating"
   ]
  },
  {
   "cell_type": "code",
   "execution_count": 5,
   "id": "9ab4fe54",
   "metadata": {},
   "outputs": [],
   "source": [
    "test = ratings[:10000]\n",
    "test = test[[\"userID\",\"movieID\"]]\n",
    "\n",
    "preds = []\n",
    "for user,movie in test.itertuples(index=False):\n",
    "    preds.append(predict_rating(user,movie))"
   ]
  },
  {
   "cell_type": "code",
   "execution_count": 6,
   "id": "71131611",
   "metadata": {
    "scrolled": false
   },
   "outputs": [],
   "source": [
    "for i in range(len(preds)): \n",
    "    if not preds[i] <= 5 or not preds[i] >= 1:\n",
    "        preds[i] = global_mean"
   ]
  },
  {
   "cell_type": "code",
   "execution_count": 7,
   "id": "18653219",
   "metadata": {},
   "outputs": [],
   "source": [
    "for i in range(len(preds)): \n",
    "    if preds[i] > 5:\n",
    "        preds[i] = 5\n",
    "    elif preds[i] < 1:\n",
    "        preds[i] = 1"
   ]
  },
  {
   "cell_type": "code",
   "execution_count": 8,
   "id": "36f033c6",
   "metadata": {
    "scrolled": true
   },
   "outputs": [
    {
     "data": {
      "text/plain": [
       "0.8883906325542718"
      ]
     },
     "execution_count": 8,
     "metadata": {},
     "output_type": "execute_result"
    }
   ],
   "source": [
    "mean_squared_error(preds,ratings[:10000].rating.to_list(),squared=False)"
   ]
  },
  {
   "cell_type": "code",
   "execution_count": 9,
   "id": "0d1aae46",
   "metadata": {},
   "outputs": [],
   "source": [
    "def predict_rating(user_id, movie_id):\n",
    "    top10_movies = movie_similarities_df.loc[movie_id,ratings.loc[ratings.userID == user_id].movieID.to_list()].sort_values(ascending=False)[1:11].index.to_list()\n",
    "    top10_movies_mean = ratings[ratings.movieID.isin(top10_movies)].drop_duplicates(subset=\"movieID\",keep=\"first\").movie_mean.mean()\n",
    "    \n",
    "    if len(ratings[(ratings.movieID.isin(top10_movies)) & (ratings.userID == user_id)]) > 0:\n",
    "        users_top10_ratings_mean = ratings[(ratings.movieID.isin(top10_movies)) & (ratings.userID == user_id)].rating.mean()\n",
    "    else:\n",
    "        users_top10_ratings_mean = ratings[ratings.userID == user_id].rating.mean()\n",
    "    \n",
    "    top10_users = user_similarities_df.loc[movie_id,ratings.loc[ratings.userID == user_id].movieID.to_list()].sort_values(ascending=False)[1:11].index.to_list()\n",
    "    top10_users_mean = ratings[(ratings.userID.isin(top10_users)) & (ratings.movieID.isin(top10_movies))].rating.mean()\n",
    "      \n",
    "    predicted_rating = (top10_movies_mean * 0.2) + (users_top10_ratings_mean * 0.4) + (top10_users_mean * 0.4) + movie_scaled_df[user_id].mean()\n",
    "\n",
    "    return predicted_rating"
   ]
  },
  {
   "cell_type": "code",
   "execution_count": 10,
   "id": "425d913d",
   "metadata": {},
   "outputs": [],
   "source": [
    "test = ratings[:10000]\n",
    "test = test[[\"userID\",\"movieID\"]]\n",
    "\n",
    "preds = []\n",
    "for user,movie in test.itertuples(index=False):\n",
    "    preds.append(predict_rating(user,movie))"
   ]
  },
  {
   "cell_type": "code",
   "execution_count": 11,
   "id": "e9fec0ef",
   "metadata": {},
   "outputs": [],
   "source": [
    "for i in range(len(preds)): \n",
    "    if preds[i] > 5:\n",
    "        preds[i] = 5\n",
    "    elif preds[i] < 1:\n",
    "        preds[i] = 1"
   ]
  },
  {
   "cell_type": "code",
   "execution_count": 12,
   "id": "d2c6f2a7",
   "metadata": {},
   "outputs": [],
   "source": [
    "for i in range(len(preds)): \n",
    "    if not preds[i] <= 5 or not preds[i] >= 1:\n",
    "        preds[i] = global_mean"
   ]
  },
  {
   "cell_type": "code",
   "execution_count": 13,
   "id": "0bc6bffc",
   "metadata": {},
   "outputs": [
    {
     "data": {
      "text/plain": [
       "0.9281127636512154"
      ]
     },
     "execution_count": 13,
     "metadata": {},
     "output_type": "execute_result"
    }
   ],
   "source": [
    "mean_squared_error(preds,ratings[:10000].rating.to_list(),squared=False)"
   ]
  },
  {
   "cell_type": "code",
   "execution_count": 14,
   "id": "551957f5",
   "metadata": {},
   "outputs": [],
   "source": [
    "def predict_rating(user_id, movie_id):\n",
    "    top5_movies = movie_similarities_df.loc[movie_id,ratings.loc[ratings.userID == user_id].movieID.to_list()].sort_values(ascending=False)[1:6].index.to_list()\n",
    "    top5_movies_mean = ratings[ratings.movieID.isin(top5_movies)].drop_duplicates(subset=\"movieID\",keep=\"first\").movie_mean.mean()\n",
    "    \n",
    "    if len(ratings[(ratings.movieID.isin(top5_movies)) & (ratings.userID == user_id)]) > 0:\n",
    "        users_top5_ratings_mean = ratings[(ratings.movieID.isin(top5_movies)) & (ratings.userID == user_id)].rating.mean()\n",
    "    else:\n",
    "        users_top5_ratings_mean = ratings[ratings.userID == user_id].rating.mean()\n",
    "    \n",
    "    top5_users = user_similarities_df.loc[user_id].sort_values(ascending=False)[1:5].index.to_list()\n",
    "    top5_users_mean = ratings[(ratings.userID.isin(top5_users)) & (ratings.movieID.isin(top5_movies))].rating.mean()\n",
    "      \n",
    "    predicted_rating = ((top5_movies_mean + users_top5_ratings_mean + top5_users_mean) / 3) + movie_scaled_df[user_id].mean()\n",
    "\n",
    "    return predicted_rating"
   ]
  },
  {
   "cell_type": "code",
   "execution_count": 15,
   "id": "2913bacd",
   "metadata": {},
   "outputs": [],
   "source": [
    "test = ratings[:2000]\n",
    "test = test[[\"userID\",\"movieID\"]]\n",
    "\n",
    "preds = []\n",
    "for user,movie in test.itertuples(index=False):\n",
    "    preds.append(predict_rating(user,movie))"
   ]
  },
  {
   "cell_type": "code",
   "execution_count": 16,
   "id": "52dbeedf",
   "metadata": {},
   "outputs": [],
   "source": [
    "for i in range(len(preds)): \n",
    "    if preds[i] > 5:\n",
    "        preds[i] = 5\n",
    "    elif preds[i] < 1:\n",
    "        preds[i] = 1\n",
    "        \n",
    "for i in range(len(preds)): \n",
    "    if not preds[i] <= 5 or not preds[i] >= 1:\n",
    "        preds[i] = global_mean"
   ]
  },
  {
   "cell_type": "code",
   "execution_count": 17,
   "id": "e356974f",
   "metadata": {},
   "outputs": [
    {
     "data": {
      "text/plain": [
       "0.8995867738682565"
      ]
     },
     "execution_count": 17,
     "metadata": {},
     "output_type": "execute_result"
    }
   ],
   "source": [
    "mean_squared_error(preds,ratings[:2000].rating.to_list(),squared=False)"
   ]
  },
  {
   "cell_type": "code",
   "execution_count": 18,
   "id": "8e2e314c",
   "metadata": {},
   "outputs": [],
   "source": [
    "def predict_rating(user_id, movie_id):\n",
    "    top5_movies = movie_similarities_df.loc[movie_id,ratings.loc[ratings.userID == user_id].movieID.to_list()].sort_values(ascending=False)[1:11].index.to_list()\n",
    "    top5_movies_mean = ratings[ratings.movieID.isin(top5_movies)].drop_duplicates(subset=\"movieID\",keep=\"first\").movie_mean.mean()\n",
    "    \n",
    "    if len(ratings[(ratings.movieID.isin(top5_movies)) & (ratings.userID == user_id)]) > 0:\n",
    "        users_top5_ratings_mean = ratings[(ratings.movieID.isin(top5_movies)) & (ratings.userID == user_id)].rating.mean()\n",
    "    else:\n",
    "        users_top5_ratings_mean = ratings[ratings.userID == user_id].rating.mean()\n",
    "    \n",
    "    top5_users = user_similarities_df.loc[user_id].sort_values(ascending=False)[1:6].index.to_list()\n",
    "    top5_users_mean = ratings[(ratings.userID.isin(top5_users)) & (ratings.movieID.isin(top5_movies))].rating.mean()\n",
    "      \n",
    "    predicted_rating = ((top5_movies_mean + users_top5_ratings_mean + top5_users_mean) / 3) + movie_scaled_df[user_id].mean()\n",
    "\n",
    "    return predicted_rating"
   ]
  },
  {
   "cell_type": "code",
   "execution_count": 19,
   "id": "05aff41d",
   "metadata": {},
   "outputs": [],
   "source": [
    "test = ratings[:2000]\n",
    "test = test[[\"userID\",\"movieID\"]]\n",
    "\n",
    "preds = []\n",
    "for user,movie in test.itertuples(index=False):\n",
    "    preds.append(predict_rating(user,movie))"
   ]
  },
  {
   "cell_type": "code",
   "execution_count": 20,
   "id": "b3518c14",
   "metadata": {},
   "outputs": [],
   "source": [
    "for i in range(len(preds)): \n",
    "    if preds[i] > 5:\n",
    "        preds[i] = 5\n",
    "    elif preds[i] < 1:\n",
    "        preds[i] = 1\n",
    "        \n",
    "for i in range(len(preds)): \n",
    "    if not preds[i] <= 5 or not preds[i] >= 1:\n",
    "        preds[i] = global_mean"
   ]
  },
  {
   "cell_type": "code",
   "execution_count": 21,
   "id": "9d18d2c6",
   "metadata": {},
   "outputs": [
    {
     "data": {
      "text/plain": [
       "0.8887136590855075"
      ]
     },
     "execution_count": 21,
     "metadata": {},
     "output_type": "execute_result"
    }
   ],
   "source": [
    "mean_squared_error(preds,ratings[:2000].rating.to_list(),squared=False)"
   ]
  },
  {
   "cell_type": "code",
   "execution_count": null,
   "id": "1ee1ec1c",
   "metadata": {},
   "outputs": [],
   "source": []
  }
 ],
 "metadata": {
  "kernelspec": {
   "display_name": "Python 3 (ipykernel)",
   "language": "python",
   "name": "python3"
  },
  "language_info": {
   "codemirror_mode": {
    "name": "ipython",
    "version": 3
   },
   "file_extension": ".py",
   "mimetype": "text/x-python",
   "name": "python",
   "nbconvert_exporter": "python",
   "pygments_lexer": "ipython3",
   "version": "3.9.12"
  }
 },
 "nbformat": 4,
 "nbformat_minor": 5
}
